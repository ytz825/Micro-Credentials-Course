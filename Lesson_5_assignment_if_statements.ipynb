{
  "nbformat": 4,
  "nbformat_minor": 0,
  "metadata": {
    "colab": {
      "name": "Lesson 5 assignment: if_statements.ipynb",
      "provenance": [],
      "authorship_tag": "ABX9TyOTof41hvXtCVFtKaz8pENp",
      "include_colab_link": true
    },
    "kernelspec": {
      "name": "python3",
      "display_name": "Python 3"
    }
  },
  "cells": [
    {
      "cell_type": "markdown",
      "metadata": {
        "id": "view-in-github",
        "colab_type": "text"
      },
      "source": [
        "<a href=\"https://colab.research.google.com/github/ytz825/Micro-Credentials-Course/blob/main/Lesson_5_assignment_if_statements.ipynb\" target=\"_parent\"><img src=\"https://colab.research.google.com/assets/colab-badge.svg\" alt=\"Open In Colab\"/></a>"
      ]
    },
    {
      "cell_type": "markdown",
      "metadata": {
        "id": "ppwVzcPEeQkc"
      },
      "source": [
        "Make a list of 5 or more usernames, including an admin account.  Imagine you are writing code that will welcome people to your application on login. Loop through the list and print your greeting.\n",
        "1. If the admin account logs in, give them a special greeting.  They’re the admin, after all!\n",
        "2. Other users can get the generic greeting\n"
      ]
    },
    {
      "cell_type": "code",
      "metadata": {
        "colab": {
          "base_uri": "https://localhost:8080/"
        },
        "id": "jopbsYD0eKkY",
        "outputId": "0372b4c6-e09b-49fb-870c-2e54356ba938"
      },
      "source": [
        "users = ['Jason','Mary','Zoe','Jane','John','Bob']\n",
        " \n",
        "for user in users:\n",
        "  type_of_user = input('Please enter if you are a user or admin: ').lower()\n",
        "  if type_of_user == 'admin':\n",
        "    print('Hey ' + user + ' , there are lots of people on our application today. Great job!')\n",
        "  else:\n",
        "    print('Hello ' + user + ', thank you for using my application. Hope you will enjoy your experience!')"
      ],
      "execution_count": 6,
      "outputs": [
        {
          "output_type": "stream",
          "text": [
            "Please enter if you are a user or admin: user\n",
            "Hello Jason, thank you for using my application. Hope you will enjoy your experience!\n",
            "Please enter if you are a user or admin: user\n",
            "Hello Mary, thank you for using my application. Hope you will enjoy your experience!\n",
            "Please enter if you are a user or admin: user\n",
            "Hello Zoe, thank you for using my application. Hope you will enjoy your experience!\n",
            "Please enter if you are a user or admin: user\n",
            "Hello Jane, thank you for using my application. Hope you will enjoy your experience!\n",
            "Please enter if you are a user or admin: user\n",
            "Hello John, thank you for using my application. Hope you will enjoy your experience!\n",
            "Please enter if you are a user or admin: admin\n",
            "Hey Bob , there are lots of people on our application today. Great job!\n"
          ],
          "name": "stdout"
        }
      ]
    },
    {
      "cell_type": "markdown",
      "metadata": {
        "id": "fDPanPF1gHoY"
      },
      "source": [
        "Store numbers 1-10 in a list\n",
        "\n",
        "*  Loop through the list\n",
        "*  Use an if-elif-else chain inside your loop to print the ordinal ending for each number – for example – 1st, 2nd, 3rd … etc."
      ]
    },
    {
      "cell_type": "code",
      "metadata": {
        "colab": {
          "base_uri": "https://localhost:8080/"
        },
        "id": "Cv0dnl47geDM",
        "outputId": "c2701fb4-3dcb-4db9-b58a-50327532f965"
      },
      "source": [
        "numbers = list(range(1,10))\n",
        "for num in numbers:\n",
        "  if num == 1:\n",
        "    print(str(num) + 'st')\n",
        "  elif num == 2:\n",
        "    print(str(num) + 'nd')\n",
        "  elif num == 3:\n",
        "    print(str(num) + 'rd')\n",
        "  else:\n",
        "    print(str(num) + 'th')\n"
      ],
      "execution_count": 8,
      "outputs": [
        {
          "output_type": "stream",
          "text": [
            "1st\n",
            "2nd\n",
            "3rd\n",
            "4th\n",
            "5th\n",
            "6th\n",
            "7th\n",
            "8th\n",
            "9th\n"
          ],
          "name": "stdout"
        }
      ]
    }
  ]
}