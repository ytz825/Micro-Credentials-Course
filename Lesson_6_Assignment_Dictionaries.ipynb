{
  "nbformat": 4,
  "nbformat_minor": 0,
  "metadata": {
    "colab": {
      "name": "Lesson 6 Assignment: Dictionaries.ipynb",
      "provenance": [],
      "authorship_tag": "ABX9TyM8oCiIFBH/zUxmlbWiX5Cu",
      "include_colab_link": true
    },
    "kernelspec": {
      "name": "python3",
      "display_name": "Python 3"
    }
  },
  "cells": [
    {
      "cell_type": "markdown",
      "metadata": {
        "id": "view-in-github",
        "colab_type": "text"
      },
      "source": [
        "<a href=\"https://colab.research.google.com/github/ytz825/Micro-Credentials-Course/blob/main/Lesson_6_Assignment_Dictionaries.ipynb\" target=\"_parent\"><img src=\"https://colab.research.google.com/assets/colab-badge.svg\" alt=\"Open In Colab\"/></a>"
      ]
    },
    {
      "cell_type": "markdown",
      "metadata": {
        "id": "mNsMUBwhejnN"
      },
      "source": [
        "1. Create a simple dictionary that stores 2 variables, for example: first and last name.\n"
      ]
    },
    {
      "cell_type": "code",
      "metadata": {
        "colab": {
          "base_uri": "https://localhost:8080/"
        },
        "id": "tq41sK9odxMt",
        "outputId": "30e629c7-e4fb-4035-8dfb-ba4c57c9bc47"
      },
      "source": [
        "simpleDict = {'first_name':'Yating','last_name':'Zhang'}\n",
        "print(simpleDict)"
      ],
      "execution_count": null,
      "outputs": [
        {
          "output_type": "stream",
          "text": [
            "{'first_name': 'Yating', 'last_name': 'Zhang'}\n"
          ],
          "name": "stdout"
        }
      ]
    },
    {
      "cell_type": "markdown",
      "metadata": {
        "id": "sBigP5defR6l"
      },
      "source": [
        "2. Print out those variables stored in your previous dictionary. "
      ]
    },
    {
      "cell_type": "code",
      "metadata": {
        "colab": {
          "base_uri": "https://localhost:8080/"
        },
        "id": "UxnV4WXgfVPw",
        "outputId": "9314b4a9-dcab-4f4f-9e26-9eba137a4dfa"
      },
      "source": [
        "print(simpleDict['first_name'],simpleDict['last_name'])"
      ],
      "execution_count": null,
      "outputs": [
        {
          "output_type": "stream",
          "text": [
            "Yating Zhang\n"
          ],
          "name": "stdout"
        }
      ]
    },
    {
      "cell_type": "markdown",
      "metadata": {
        "id": "HmBCnoszfuub"
      },
      "source": [
        "3. Add a message to those variables on printing: for example: “Hello, firstname lastname!”\n"
      ]
    },
    {
      "cell_type": "code",
      "metadata": {
        "colab": {
          "base_uri": "https://localhost:8080/"
        },
        "id": "jpiHmWDIfxiU",
        "outputId": "f5d082ab-bf34-4c5f-cf06-76a52f70af5a"
      },
      "source": [
        "print('Hello,', simpleDict['first_name'], simpleDict['last_name'] + '!')"
      ],
      "execution_count": null,
      "outputs": [
        {
          "output_type": "stream",
          "text": [
            "Hello, Yating Zhang!\n"
          ],
          "name": "stdout"
        }
      ]
    },
    {
      "cell_type": "markdown",
      "metadata": {
        "id": "wyOhMieCgE47"
      },
      "source": [
        "4. Create a dictionary that holds 2 key: value pairs:\n",
        "\n",
        "  Look through your dictionary and print each pair,\n"
      ]
    },
    {
      "cell_type": "code",
      "metadata": {
        "colab": {
          "base_uri": "https://localhost:8080/"
        },
        "id": "JvxXGhxxgdHk",
        "outputId": "3fecba1b-1b1c-487a-ade2-c18c60dcb4dc"
      },
      "source": [
        "sampleDict = {'Name':'Jenny','Occupation':'Nurse'}\n",
        "\n",
        "for k,v in sampleDict.items():\n",
        "  print(k + ': ' + v)"
      ],
      "execution_count": null,
      "outputs": [
        {
          "output_type": "stream",
          "text": [
            "Name: Jenny\n",
            "Occupation: Nurse\n"
          ],
          "name": "stdout"
        }
      ]
    },
    {
      "cell_type": "markdown",
      "metadata": {
        "id": "bW3NbxCDhp4M"
      },
      "source": [
        "5. Create a nested dictionary containing three dictionaries – these dictionaries could be anything (favorite pets, travel locations, etc.)\n",
        "\n",
        "  Loop through the dictionaries and print a message for each.\n"
      ]
    },
    {
      "cell_type": "code",
      "metadata": {
        "colab": {
          "base_uri": "https://localhost:8080/"
        },
        "id": "cYEP8kcth9AB",
        "outputId": "2f74a917-1bf4-4869-8531-1097f96e58ef"
      },
      "source": [
        "nested_Dict = {'dict1':{'first_name': 'Mary','age':28,'gender':'Female'},\n",
        "               'dict2':{'first_name': 'Jack','age':30,'gender':'Male'},\n",
        "               'dict3':{'first_name': 'Robert','age':18,'gender':'Male'}\n",
        "               }\n",
        "\n",
        "for d in nested_Dict:\n",
        "  if d == 'dict1':\n",
        "    print('Hello', nested_Dict['dict1']['first_name'], 'You are', nested_Dict['dict1']['age'])\n",
        "  elif d == 'dict2':\n",
        "    print('Hello', nested_Dict['dict2']['first_name'],'You are', nested_Dict['dict2']['age'])\n",
        "  else:\n",
        "    print('Hello', nested_Dict['dict3']['first_name'],'You are', nested_Dict['dict3']['age'])"
      ],
      "execution_count": 12,
      "outputs": [
        {
          "output_type": "stream",
          "text": [
            "Hello Mary You are 28\n",
            "Hello Jack You are 30\n",
            "Hello Robert You are 18\n"
          ],
          "name": "stdout"
        }
      ]
    }
  ]
}