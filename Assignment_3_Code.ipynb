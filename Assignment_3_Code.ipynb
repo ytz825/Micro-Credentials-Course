{
  "nbformat": 4,
  "nbformat_minor": 0,
  "metadata": {
    "colab": {
      "name": "Assignment 3 Code.ipynb",
      "provenance": [],
      "authorship_tag": "ABX9TyMQfZksfAB4RJb/d9hquF6r",
      "include_colab_link": true
    },
    "kernelspec": {
      "name": "python3",
      "display_name": "Python 3"
    }
  },
  "cells": [
    {
      "cell_type": "markdown",
      "metadata": {
        "id": "view-in-github",
        "colab_type": "text"
      },
      "source": [
        "<a href=\"https://colab.research.google.com/github/ytz825/Micro-Credentials-Course/blob/main/Assignment_3_Code.ipynb\" target=\"_parent\"><img src=\"https://colab.research.google.com/assets/colab-badge.svg\" alt=\"Open In Colab\"/></a>"
      ]
    },
    {
      "cell_type": "markdown",
      "metadata": {
        "id": "UsYr1mZLp3-B"
      },
      "source": [
        "Question 1: Create a list of 5 of your favorite tv shows."
      ]
    },
    {
      "cell_type": "code",
      "metadata": {
        "id": "4Rb3j5jKpyzg"
      },
      "source": [
        "fav_tvshows = [\"Vampire Diary\",\"The Office\", \"Brockmire\",\"We Are Who We Are\", \"Grown Ups\"]"
      ],
      "execution_count": 16,
      "outputs": []
    },
    {
      "cell_type": "markdown",
      "metadata": {
        "id": "22e6breaq1ec"
      },
      "source": [
        "Question 2: Print the list in its original order."
      ]
    },
    {
      "cell_type": "code",
      "metadata": {
        "colab": {
          "base_uri": "https://localhost:8080/"
        },
        "id": "Uq0a_PiEq55Z",
        "outputId": "349739f0-6e58-4e09-c077-94091c576d59"
      },
      "source": [
        "fav_tvshows = [\"Vampire Diary\",\"The Office\", \"Brockmire\",\"We Are Who We Are\", \"Grown Ups\"]\n",
        "print(fav_tvshows)"
      ],
      "execution_count": 18,
      "outputs": [
        {
          "output_type": "stream",
          "text": [
            "['Vampire Diary', 'The Office', 'Brockmire', 'We Are Who We Are', 'Grown Ups']\n"
          ],
          "name": "stdout"
        }
      ]
    },
    {
      "cell_type": "markdown",
      "metadata": {
        "id": "_8_N6SFkrwy0"
      },
      "source": [
        "Question 3: Use the sorted() function to print the list in alphabetical order. How is sorted() different from\n",
        "sort()?"
      ]
    },
    {
      "cell_type": "code",
      "metadata": {
        "colab": {
          "base_uri": "https://localhost:8080/"
        },
        "id": "9A6uu2OXr4gZ",
        "outputId": "ecd53ccb-c7a6-447c-e762-50e103f757a9"
      },
      "source": [
        "print(sorted(fav_tvshows))\n",
        "\n",
        "#sorted() does not replace the order of the original list while sort() does."
      ],
      "execution_count": 19,
      "outputs": [
        {
          "output_type": "stream",
          "text": [
            "['Brockmire', 'Grown Ups', 'The Office', 'Vampire Diary', 'We Are Who We Are']\n"
          ],
          "name": "stdout"
        }
      ]
    },
    {
      "cell_type": "markdown",
      "metadata": {
        "id": "0iCjOhTEskZL"
      },
      "source": [
        "Question 4: Print out your original list."
      ]
    },
    {
      "cell_type": "code",
      "metadata": {
        "colab": {
          "base_uri": "https://localhost:8080/"
        },
        "id": "cNfQfvE_soe4",
        "outputId": "e97c61fd-afca-4109-f0d9-8f4ca8763a36"
      },
      "source": [
        "print(fav_tvshows)"
      ],
      "execution_count": 20,
      "outputs": [
        {
          "output_type": "stream",
          "text": [
            "['Vampire Diary', 'The Office', 'Brockmire', 'We Are Who We Are', 'Grown Ups']\n"
          ],
          "name": "stdout"
        }
      ]
    },
    {
      "cell_type": "markdown",
      "metadata": {
        "id": "S5hrpaFKtHj9"
      },
      "source": [
        "Question 5: Used sorted() to print your list in reverse alphabetical order."
      ]
    },
    {
      "cell_type": "code",
      "metadata": {
        "colab": {
          "base_uri": "https://localhost:8080/"
        },
        "id": "Y7KCpKHQtKyc",
        "outputId": "5e02b318-8182-40c7-db9a-1f9337ea9598"
      },
      "source": [
        "print(sorted(fav_tvshows,reverse=True))"
      ],
      "execution_count": 21,
      "outputs": [
        {
          "output_type": "stream",
          "text": [
            "['We Are Who We Are', 'Vampire Diary', 'The Office', 'Grown Ups', 'Brockmire']\n"
          ],
          "name": "stdout"
        }
      ]
    },
    {
      "cell_type": "markdown",
      "metadata": {
        "id": "Q7MZre8HtHXb"
      },
      "source": [
        "Question 6: Create a message indicating how many favorite TV shows you have – use the len() function."
      ]
    },
    {
      "cell_type": "code",
      "metadata": {
        "colab": {
          "base_uri": "https://localhost:8080/"
        },
        "id": "1UOJC3o-tbV_",
        "outputId": "5f095ed3-8b69-4585-8a5a-7427fe98ad95"
      },
      "source": [
        "number = len(fav_tvshows)\n",
        "print(\"I have \" + str(number) + \" favorite TV shows\")"
      ],
      "execution_count": 22,
      "outputs": [
        {
          "output_type": "stream",
          "text": [
            "I have 5 favorite TV shows\n"
          ],
          "name": "stdout"
        }
      ]
    }
  ]
}