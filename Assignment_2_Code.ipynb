{
  "nbformat": 4,
  "nbformat_minor": 0,
  "metadata": {
    "colab": {
      "name": "Assignment 2 Code.ipynb",
      "provenance": [],
      "authorship_tag": "ABX9TyPSA4UvXFa6pEeZ6sdPjILU",
      "include_colab_link": true
    },
    "kernelspec": {
      "name": "python3",
      "display_name": "Python 3"
    }
  },
  "cells": [
    {
      "cell_type": "markdown",
      "metadata": {
        "id": "view-in-github",
        "colab_type": "text"
      },
      "source": [
        "<a href=\"https://colab.research.google.com/github/ytz825/Micro-Credentials-Course/blob/main/Assignment_2_Code.ipynb\" target=\"_parent\"><img src=\"https://colab.research.google.com/assets/colab-badge.svg\" alt=\"Open In Colab\"/></a>"
      ]
    },
    {
      "cell_type": "markdown",
      "metadata": {
        "id": "AtNnEH4Yn6xz"
      },
      "source": [
        "Question 1: What is Python and why is it useful?\n",
        "\n",
        "**Python is an interpreted, high-level and general-purpose programming language. It’s useful because it’s easy to learn, clear to read, and simple to write. Although it’s relatively easy compared to other programming languages, it’s just as powerful and versatile like the others.**\n"
      ]
    },
    {
      "cell_type": "markdown",
      "metadata": {
        "id": "iMEyZ8GioRLn"
      },
      "source": [
        "Question 2: Are the following variable names allowed in python?\n",
        "\n",
        "**a)1_message - No**\n",
        "\n",
        "**b)Greeting_message - Yes**\n",
        "\n",
        "**c) Message_1 - Yes**\n",
        "\n",
        "**d) First name - No**\n",
        "\n",
        "**e) Full_name - Yes** \n"
      ]
    },
    {
      "cell_type": "markdown",
      "metadata": {
        "id": "13AJOwDInPnO"
      },
      "source": [
        "Question 3: Create a variable that holds the string “hello there!”"
      ]
    },
    {
      "cell_type": "code",
      "metadata": {
        "colab": {
          "base_uri": "https://localhost:8080/"
        },
        "id": "cb--zUjemCWD",
        "outputId": "b47bbddb-13d3-4924-f14a-a7aee538c72e"
      },
      "source": [
        "hi = \"hello there!\"\n",
        "print(hi)"
      ],
      "execution_count": 4,
      "outputs": [
        {
          "output_type": "stream",
          "text": [
            "hello there!\n"
          ],
          "name": "stdout"
        }
      ]
    },
    {
      "cell_type": "markdown",
      "metadata": {
        "id": "e45ebsE3nx0C"
      },
      "source": [
        "Question 4: Create a variable for first name, last name and an email extension.  Concatenating all three together to form an email address.  For example: firstnamelastname@gmail.com\n"
      ]
    },
    {
      "cell_type": "code",
      "metadata": {
        "colab": {
          "base_uri": "https://localhost:8080/"
        },
        "id": "us7cB9upmNZE",
        "outputId": "f111fe6e-7f55-4939-e897-5f31f0578022"
      },
      "source": [
        "first_name = \"Yating\"\n",
        "last_name = \"Zhang\"\n",
        "ext = \"@gmail.com\"\n",
        "email = first_name + last_name + ext\n",
        "print(email)"
      ],
      "execution_count": 1,
      "outputs": [
        {
          "output_type": "stream",
          "text": [
            "YatingZhang@gmail.com\n"
          ],
          "name": "stdout"
        }
      ]
    },
    {
      "cell_type": "markdown",
      "metadata": {
        "id": "zJhGSr-5oo8b"
      },
      "source": [
        "Question 5: Store someone you know name in a variable called name.  Print their name in lower and uppercase using a method."
      ]
    },
    {
      "cell_type": "code",
      "metadata": {
        "colab": {
          "base_uri": "https://localhost:8080/"
        },
        "id": "0KWUuuMImXIi",
        "outputId": "740e34b3-e70f-46dc-be7e-483c9e97221a"
      },
      "source": [
        "name = \"Jenny Huang\"\n",
        "print(name.upper())\n",
        "print(name.lower())"
      ],
      "execution_count": 2,
      "outputs": [
        {
          "output_type": "stream",
          "text": [
            "JENNY HUANG\n",
            "jenny huang\n"
          ],
          "name": "stdout"
        }
      ]
    },
    {
      "cell_type": "markdown",
      "metadata": {
        "id": "z2DQjitLo88b"
      },
      "source": [
        "Question 6: Using a variable, ask your friend if they want to hang out on the 15th of the month.  For example, “Do you want to hang out on the 15th of this month?”  You should have to convert the number to a string.\n"
      ]
    },
    {
      "cell_type": "code",
      "metadata": {
        "colab": {
          "base_uri": "https://localhost:8080/"
        },
        "id": "WMz9IxDApApo",
        "outputId": "0b0dfcde-30e8-4f57-8c8c-cd7a8d208de3"
      },
      "source": [
        "hangout = input('Do you want to hang out on the 15th of this month?\\n')"
      ],
      "execution_count": 3,
      "outputs": [
        {
          "output_type": "stream",
          "text": [
            "Do you want to hang out on the 15th of this month?\n",
            "Yes\n"
          ],
          "name": "stdout"
        }
      ]
    }
  ]
}